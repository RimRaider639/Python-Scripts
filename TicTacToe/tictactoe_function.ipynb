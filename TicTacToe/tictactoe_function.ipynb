{
 "cells": [
  {
   "cell_type": "markdown",
   "metadata": {},
   "source": [
    "# My first milestone project!"
   ]
  },
  {
   "cell_type": "code",
   "execution_count": 1,
   "metadata": {},
   "outputs": [],
   "source": []
  },
  {
   "cell_type": "code",
   "execution_count": 1,
   "metadata": {},
   "outputs": [],
   "source": [
    "def game_on(num_played):\n",
    "    from IPython.display import clear_output\n",
    "    reply= 'a'\n",
    "    while reply not in ('Y','N'):\n",
    "        reply= input(f\"Do you want to start the game {num_played}? (Y or N)\\n\")\n",
    "        \n",
    "        if reply not in ('Y', 'N'):\n",
    "            clear_output()\n",
    "            print(\"Sorry didn't understand you. Please type Y or N.\")\n",
    "    if reply=='Y':\n",
    "        clear_output()\n",
    "        return True\n",
    "    else:\n",
    "        clear_output()\n",
    "        return False          \n",
    "    \n",
    "def display_board(row1, row2, row3):\n",
    "    print(\"TIC TAC TOE !!!\\n\")\n",
    "    print('     |     |     ')\n",
    "    print(f'  {row1[0]}  |  {row1[1]}  |  {row1[2]}  ')\n",
    "    print('     |     |     ')\n",
    "    print('------------------')\n",
    "    print('     |     |     ')\n",
    "    print(f'  {row2[0]}  |  {row2[1]}  |  {row2[2]}  ')\n",
    "    print('     |     |     ')\n",
    "    print('------------------')\n",
    "    print('     |     |     ')\n",
    "    print(f'  {row3[0]}  |  {row3[1]}  |  {row3[2]}  ')\n",
    "    print('     |     |     ')\n",
    "    \n",
    "def Player_xo():\n",
    "    from IPython.display import clear_output\n",
    "    global P_one\n",
    "    global P_two\n",
    "    xo= 'a'\n",
    "    while xo not in ('X','O'):\n",
    "        xo= input(\"Do you wanna play as X or O? \")\n",
    "        \n",
    "        if xo not in ('X', 'O'):\n",
    "            clear_output()\n",
    "            print(\"Sorry didn't understand you. Please type X or O.\")\n",
    "    if xo=='X':\n",
    "        P_one='X'\n",
    "        P_two='O'\n",
    "        print(\"You're player 1! Start playing:\")\n",
    "        return True\n",
    "        \n",
    "    else:\n",
    "        P_one='O'\n",
    "        P_two='X'\n",
    "        print(\"You're player 1! Start playing:\")\n",
    "        return True\n",
    "\n",
    "def position(P, row1, row2, row3, Map):\n",
    "    position= 'a'\n",
    "    \n",
    "    while not position.isdigit() or int(position) not in range(1,10) or Map[int(position)] in ('X', 'O'):\n",
    "        position= input(f'Where do you wanna put your {P}? (1-9)')\n",
    "        if position.isdigit():\n",
    "            if int(position) not in range(1,11):\n",
    "                \n",
    "                print('Out of range! Please put a value within 1-9.')\n",
    "            elif Map[int(position)] in ('X', 'O'):\n",
    "                \n",
    "                print(f'The position already holds an {Map[int(position)]}. Please try again:')\n",
    "        else:\n",
    "            \n",
    "            print(\"Invalid input. Please enter a value (1-9).\")\n",
    "    if position.isdigit() and int(position) in range(1,10) and Map[int(position)] not in ('X','O'):\n",
    "        Map[int(position)]=P\n",
    "        if 0<int(position)<4:\n",
    "            row1[row1.index(position)]= P\n",
    "        elif 3<int(position)<7:\n",
    "            row2[row2.index(position)]= P\n",
    "        else: \n",
    "            row3[row3.index(position)]= P\n",
    "        return Map\n",
    "            \n",
    "def winning_move(Map, P, row1, row2, row3):\n",
    "    from IPython.display import clear_output\n",
    "    d=Map\n",
    "    if [P,P,P] == [d[1],d[2],d[3]] or [P,P,P] == [d[4],d[5],d[6]] or [P,P,P] == [d[7],d[8],d[9]] or [P,P,P] == [d[1],d[4],d[7]] or [P,P,P] == [d[2],d[5],d[8]] or [P,P,P] == [d[3],d[6],d[9]] or [P,P,P] == [d[1],d[5],d[9]] or [P,P,P] == [d[3],d[5],d[7]]:\n",
    "        clear_output()\n",
    "        display_board(row1, row2, row3)\n",
    "        print('\\n------YOU WON!------')\n",
    "        return True\n",
    "    elif list(Map.values()).count(P)==5:\n",
    "        clear_output()\n",
    "        display_board(row1, row2, row3)\n",
    "        print('\\n------DRAW!------')\n",
    "        return True\n",
    "    else:\n",
    "        return False\n",
    "\n",
    "def tictactoe():\n",
    "    print(\"TIC TAC TOE !!!\")\n",
    "    from IPython.display import clear_output\n",
    "    num_played= ''\n",
    "    while game_on(num_played):\n",
    "        row1= ['1','2','3']\n",
    "        row2= ['4','5','6']\n",
    "        row3= ['7','8','9']\n",
    "        moves=[]\n",
    "        Map= {1:row1[0], 2:row1[1], 3:row1[2], 4:row2[0], 5:row2[1], 6:row2[2], 7:row3[0], 8:row3[1], 9:row3[2]}\n",
    "        Player_xo()\n",
    "        while True:\n",
    "            if moves!=[]:\n",
    "                clear_output()\n",
    "            \n",
    "            display_board(row1, row2, row3)\n",
    "            if len(moves)%2==0:\n",
    "                P=P_one\n",
    "                Map= position(P, row1, row2, row3, Map)\n",
    "            \n",
    "                if not winning_move(Map ,P, row1, row2, row3):\n",
    "                    moves.append(0)\n",
    "                    continue\n",
    "                else:\n",
    "                    num_played= 'again'\n",
    "                    break\n",
    "            else:\n",
    "                P=P_two\n",
    "                position(P, row1, row2, row3, Map)\n",
    "                if not winning_move(Map,P,row1, row2, row3):\n",
    "                    moves.append(0)\n",
    "                    continue\n",
    "                else:\n",
    "                    break   \n",
    "    else:\n",
    "        print('Have a nice day!')\n",
    "    "
   ]
  },
  {
   "cell_type": "code",
   "execution_count": 2,
   "metadata": {},
   "outputs": [
    {
     "name": "stdout",
     "output_type": "stream",
     "text": [
      "Have a nice day!\n"
     ]
    }
   ],
   "source": [
    "tictactoe()"
   ]
  },
  {
   "cell_type": "markdown",
   "metadata": {},
   "source": [
    "## "
   ]
  },
  {
   "cell_type": "code",
   "execution_count": null,
   "metadata": {},
   "outputs": [],
   "source": []
  },
  {
   "cell_type": "code",
   "execution_count": null,
   "metadata": {},
   "outputs": [],
   "source": []
  },
  {
   "cell_type": "code",
   "execution_count": null,
   "metadata": {},
   "outputs": [],
   "source": [
    "\n",
    "        "
   ]
  },
  {
   "cell_type": "code",
   "execution_count": null,
   "metadata": {},
   "outputs": [],
   "source": []
  },
  {
   "cell_type": "code",
   "execution_count": null,
   "metadata": {},
   "outputs": [],
   "source": []
  },
  {
   "cell_type": "code",
   "execution_count": null,
   "metadata": {},
   "outputs": [],
   "source": []
  },
  {
   "cell_type": "raw",
   "metadata": {},
   "source": []
  },
  {
   "cell_type": "code",
   "execution_count": null,
   "metadata": {},
   "outputs": [],
   "source": []
  },
  {
   "cell_type": "code",
   "execution_count": null,
   "metadata": {},
   "outputs": [],
   "source": []
  },
  {
   "cell_type": "code",
   "execution_count": null,
   "metadata": {},
   "outputs": [],
   "source": []
  }
 ],
 "metadata": {
  "kernelspec": {
   "display_name": "Python 3",
   "language": "python",
   "name": "python3"
  },
  "language_info": {
   "codemirror_mode": {
    "name": "ipython",
    "version": 3
   },
   "file_extension": ".py",
   "mimetype": "text/x-python",
   "name": "python",
   "nbconvert_exporter": "python",
   "pygments_lexer": "ipython3",
   "version": "3.10.7 (tags/v3.10.7:6cc6b13, Sep  5 2022, 14:08:36) [MSC v.1933 64 bit (AMD64)]"
  },
  "vscode": {
   "interpreter": {
    "hash": "3e919c62d9c6077ba4929e40901f2c7b7cbfc9de70515f95439182b1dafa4830"
   }
  }
 },
 "nbformat": 4,
 "nbformat_minor": 4
}
